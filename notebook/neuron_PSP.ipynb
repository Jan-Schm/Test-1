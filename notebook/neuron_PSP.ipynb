{
 "cells": [
  {
   "cell_type": "code",
   "execution_count": 2,
   "metadata": {},
   "outputs": [
    {
     "name": "stdout",
     "output_type": "stream",
     "text": [
      "0.019588012009272404 -0.12974197660060582\n"
     ]
    },
    {
     "data": {
      "image/png": "[encoded data removed]",
      "text/plain": [
       "<matplotlib.figure.Figure at 0x7fb45ef09908>"
      ]
     },
     "metadata": {
      "needs_background": "light"
     },
     "output_type": "display_data"
    }
   ],
   "source": [
    "import nest\n",
    "import numpy as np\n",
    "import pylab as pl\n",
    "\n",
    "\n",
    "params =  {\n",
    "    \"C_m\": 250.0,\n",
    "    \"E_L\": -70.0,\n",
    "    \"t_ref\": 2.0,\n",
    "    \"tau_m\": 10.0,\n",
    "    \"tau_minus\": 20.0,\n",
    "    \"tau_syn_ex\": 0.2,\n",
    "    \"tau_syn_in\": 2.0,\n",
    "    \"V_reset\": -70.0,\n",
    "    \"V_th\": -55.0\n",
    "}\n",
    "\n",
    "g_L = params['C_m'] / params['tau_m']\n",
    "I_th = (params['V_th'] - params['E_L']) * g_L\n",
    "Vth = params['V_th']\n",
    "\n",
    "nest.ResetKernel()\n",
    "\n",
    "n = nest.Create('iaf_psc_alpha', params=params)\n",
    "\n",
    "sg = nest.Create('spike_generator')\n",
    "vm = nest.Create('voltmeter')\n",
    "\n",
    "nest.Connect(sg, n, syn_spec={'weight': 10.0})\n",
    "nest.Connect(vm, n)\n",
    "\n",
    "nest.SetStatus(n, {'V_th': 0., 'I_e': I_th, 'V_m': Vth})\n",
    "nest.SetStatus(sg, {'spike_times': [200., 700.], 'spike_weights': [1., -1.]})\n",
    "nest.Simulate(1000.)\n",
    "\n",
    "events = nest.GetStatus(vm, 'events')[0]\n",
    "times, V_m = events['times'], events['V_m']\n",
    "\n",
    "print(np.max(V_m) - Vth, np.min(V_m) - Vth)\n",
    "pl.plot(times,V_m)\n",
    "pl.show()\n"
   ]
  },
  {
   "cell_type": "code",
   "execution_count": 11,
   "metadata": {},
   "outputs": [],
   "source": []
  },
  {
   "cell_type": "code",
   "execution_count": 12,
   "metadata": {},
   "outputs": [
    {
     "data": {
      "text/plain": [
       "['',\n",
       " '/opt/nest/lib/python3.6/site-packages',\n",
       " '/usr/lib/python36.zip',\n",
       " '/usr/lib/python3.6',\n",
       " '/usr/lib/python3.6/lib-dynload',\n",
       " '/home/spreizer/.local/lib/python3.6/site-packages',\n",
       " '/usr/local/lib/python3.6/dist-packages',\n",
       " '/usr/lib/python3/dist-packages',\n",
       " '/usr/lib/python3/dist-packages/IPython/extensions',\n",
       " '/home/spreizer/.ipython']"
      ]
     },
     "execution_count": 12,
     "metadata": {},
     "output_type": "execute_result"
    }
   ],
   "source": []
  },
  {
   "cell_type": "code",
   "execution_count": null,
   "metadata": {},
   "outputs": [],
   "source": []
  }
 ],
 "metadata": {
  "kernelspec": {
   "display_name": "Python 3",
   "language": "python",
   "name": "python3"
  },
  "language_info": {
   "codemirror_mode": {
    "name": "ipython",
    "version": 3
   },
   "file_extension": ".py",
   "mimetype": "text/x-python",
   "name": "python",
   "nbconvert_exporter": "python",
   "pygments_lexer": "ipython3",
   "version": "3.6.8"
  }
 },
 "nbformat": 4,
 "nbformat_minor": 2
}
